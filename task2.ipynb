{
 "cells": [
  {
   "cell_type": "markdown",
   "metadata": {},
   "source": [
    "TASK 2\n",
    "create a table with some descriptive statistics for the hourly electricity price in NO2 and Germany. The table should:\n",
    "- contain the mean, median, standard deviation, min and max of the hourly electricity\n",
    "price in NO2 and Germany separately for each year in the sample (2019, 2020, 2021,\n",
    "2022, 2023).\n",
    "- round all descriptive statistics to two decimals.\n",
    "- be stored as an excel file called “table_task2.xlsx”.\n",
    "What is your conclusion? Have electricity prices in NO2 and Germany become more extreme in\n",
    "recent years? Have the prices evolved differently in NO2 than in Germany?"
   ]
  },
  {
   "cell_type": "markdown",
   "metadata": {},
   "source": [
    "1 Import the data and store it in a DataFrame"
   ]
  },
  {
   "cell_type": "code",
   "execution_count": 3,
   "metadata": {},
   "outputs": [],
   "source": [
    "import pandas as pd\n",
    "import glob\n",
    "import matplotlib.pyplot as plt\n",
    "\n",
    "DATA_PATH = './data/DayAheadPrices_12.1.D'\n",
    "pattern = f'{DATA_PATH}/*_DayAheadPrices_12.1.D.csv'\n",
    "\n",
    "data = []\n",
    "\n",
    "# Read and concatenate all CSV files matching the pattern\n",
    "for file in glob.glob(pattern):\n",
    "    df = pd.read_csv(file, sep='\\t', parse_dates=['DateTime'])\n",
    "    data.append(df)\n",
    "\n",
    "df = pd.concat(data, axis=0)"
   ]
  },
  {
   "cell_type": "markdown",
   "metadata": {},
   "source": [
    "2 Filter out the information needed:"
   ]
  },
  {
   "cell_type": "code",
   "execution_count": 13,
   "metadata": {},
   "outputs": [],
   "source": [
    "# Keep only the required columns\n",
    "df = df[['DateTime', 'ResolutionCode', 'MapCode', 'Price']]\n",
    "\n",
    "# Filter for NO2 and DE MapCodes and hourly data (ResolutionCode == 'PT60M')\n",
    "df_filtered = df[(df['MapCode'].isin(['NO2', 'DE_LUC'])) & (df['ResolutionCode'] == 'PT60M')].copy()\n",
    "\n",
    "# Extract the year from DateTime\n",
    "df_filtered['Year'] = df_filtered['DateTime'].dt.year\n",
    "\n",
    "df = df_filtered\n",
    "\n"
   ]
  },
  {
   "cell_type": "markdown",
   "metadata": {},
   "source": [
    "3 Create the Excel-table"
   ]
  },
  {
   "cell_type": "code",
   "execution_count": 14,
   "metadata": {},
   "outputs": [
    {
     "name": "stdout",
     "output_type": "stream",
     "text": [
      "   Year MapCode    Mean  Median  StdDev    Min     Max\n",
      "0  2019     NO2   39.26   38.81    8.23   5.86  109.45\n",
      "1  2020     NO2    9.29    6.95    8.26  -1.73   99.92\n",
      "2  2021     NO2   75.11   59.34   47.22  -1.97  600.16\n",
      "3  2022     NO2  211.28  181.13  125.85   0.04  844.00\n",
      "4  2023     NO2   79.44   80.46   36.28 -61.84  261.85\n"
     ]
    }
   ],
   "source": [
    "# Group by Year and MapCode (NO2, DE), and calculate statistics\n",
    "stats = df.groupby(['Year', 'MapCode']).agg(\n",
    "    Mean=('Price', 'mean'),\n",
    "    Median=('Price', 'median'),\n",
    "    StdDev=('Price', 'std'),\n",
    "    Min=('Price', 'min'),\n",
    "    Max=('Price', 'max')\n",
    ").reset_index()\n",
    "\n",
    "# Round the results to two decimal places\n",
    "stats = stats.round(2)\n",
    "\n",
    "stats.to_excel('table_task2.xlsx', index=False, header=True)\n",
    "print(stats)"
   ]
  },
  {
   "cell_type": "markdown",
   "metadata": {},
   "source": [
    "Conclusion: \n",
    "From the "
   ]
  }
 ],
 "metadata": {
  "kernelspec": {
   "display_name": "base",
   "language": "python",
   "name": "python3"
  },
  "language_info": {
   "codemirror_mode": {
    "name": "ipython",
    "version": 3
   },
   "file_extension": ".py",
   "mimetype": "text/x-python",
   "name": "python",
   "nbconvert_exporter": "python",
   "pygments_lexer": "ipython3",
   "version": "3.12.2"
  }
 },
 "nbformat": 4,
 "nbformat_minor": 2
}
