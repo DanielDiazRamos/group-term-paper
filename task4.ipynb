{
 "cells": [
  {
   "cell_type": "code",
   "execution_count": null,
   "metadata": {},
   "outputs": [],
   "source": []
  },
  {
   "cell_type": "markdown",
   "metadata": {},
   "source": [
    "Your boss wants to take a closer look at the transmission flows and investigate whether there \n",
    "are times during the year in which NO2 imports more electricity from Germany than it exports. \n",
    "Specifically, she wants to know whether there have been weeks in the data in which the sum of \n",
    "net exports of electricity from NO2 to Germany has been negative (i.e., NO2 imports more \n",
    "electricity than it exports to Germany). Note that the net export is defined as the export of \n",
    "electricity minus the import of electricity.  \n",
    "Therefore, she has asked you to create a line plot that shows the weekly sum of net exports of \n",
    "electricity from NO2 to Germany. The graph should: \n",
    "\n",
    "- contain a single line plot that shows the weekly sum of net exports of electricity from \n",
    "NO2 to Germany over time. \n",
    "\n",
    "- contain a horizontal line at y=0 to indicate when the weekly net export is zero. \n",
    "\n",
    "- be stored as a png file called “figure_task4.png”. \n",
    "\n",
    "What is your conclusion? Have NO2 always exported more electricity to Germany than it has \n",
    "imported? Or have there been weeks in the data in which NO2 was a net importer of electricity? \n",
    "If so, at what times during the year does this usually occur?"
   ]
  }
 ],
 "metadata": {
  "kernelspec": {
   "display_name": "base",
   "language": "python",
   "name": "python3"
  },
  "language_info": {
   "name": "python",
   "version": "3.12.2"
  }
 },
 "nbformat": 4,
 "nbformat_minor": 2
}
