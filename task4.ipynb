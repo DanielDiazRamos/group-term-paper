{
 "cells": [
  {
   "cell_type": "code",
   "execution_count": null,
   "metadata": {},
   "outputs": [],
   "source": [# Importing necessary libraries 

import pandas as pd
import matplotlib.pyplot as plt
import glob

# Load and concatenate all files into a single DataFrame
# Here I was using the same approach as in Task1 but the code was too resource-intensive for my computer, so I had ChatGPT optimizing it and it is slightly different, and faster
DATA_PATH = "./data/PhysicalFlows_12.1.G"
pattern_flow = f'{DATA_PATH}/*_PhysicalFlows_12.1.G.csv'
data_flow = [pd.read_csv(file, sep='\t', parse_dates=["DateTime"]) for file in glob.glob(pattern_flow)]
df_flow = pd.concat(data_flow, axis=0)

# Filter for Germany data with specified MapCodes
df_flow_germany = df_flow.query("InMapCode in ['DE_LU'] and OutMapCode in ['NO2']")

# Ensure the data is sorted by 'DateTime'
df_flow_germany = df_flow_germany.sort_values('DateTime').set_index('DateTime')

# Group by weekly periods and sum the 'FlowValue' column
# Here I was taking the first 162 rows and combining them in a sum using the function "lambda" (there are 162 hours in a week) but ChatGPT recommended me to use the function resample, which would be cleaner and more efficient
df_germany_weekly = df_flow_germany.resample('W').sum(numeric_only=True)


# Filter for Norway data with specified MapCodes
df_flow_norway = df_flow.query("InMapCode in ['NO2'] and OutMapCode in ['DE_LU']")

# Ensure the data is sorted by 'DateTime'
df_flow_norway = df_flow_norway.sort_values('DateTime').set_index('DateTime')

# Group by weekly periods and sum the 'FlowValue' column
df_norway_weekly = df_flow_norway.resample('W').sum(numeric_only=True)


# Now we combine the dataframes to show the flow and whether it is positive or negative

# Calculate the net flow: Germany to Norway minus Norway to Germany
df_net_flow_weekly = df_germany_weekly['FlowValue'] - df_norway_weekly['FlowValue']

# Plot the net flow

plt.figure(figsize=(10, 6))
plt.plot(df_net_flow_weekly.index, df_net_flow_weekly)
plt.title("Weekly Net Electricity Flow Between Germany and Norway")
plt.xlabel("Date")
plt.ylabel("Net Flow Value (MWh)")
plt.axhline(0, color='red')  # We make the line at 0, as it is required
plt.show()
plt.savefig('figure_task4.png')]
  },
  {
   "cell_type": "markdown",
   "metadata": {},
   "source": [
    "Your boss wants to take a closer look at the transmission flows and investigate whether there \n",
    "are times during the year in which NO2 imports more electricity from Germany than it exports. \n",
    "Specifically, she wants to know whether there have been weeks in the data in which the sum of \n",
    "net exports of electricity from NO2 to Germany has been negative (i.e., NO2 imports more \n",
    "electricity than it exports to Germany). Note that the net export is defined as the export of \n",
    "electricity minus the import of electricity.  \n",
    "Therefore, she has asked you to create a line plot that shows the weekly sum of net exports of \n",
    "electricity from NO2 to Germany. The graph should: \n",
    "\n",
    "- contain a single line plot that shows the weekly sum of net exports of electricity from \n",
    "NO2 to Germany over time. \n",
    "\n",
    "- contain a horizontal line at y=0 to indicate when the weekly net export is zero. \n",
    "\n",
    "- be stored as a png file called “figure_task4.png”. \n",
    "\n",
    "What is your conclusion? Have NO2 always exported more electricity to Germany than it has \n",
    "imported? Or have there been weeks in the data in which NO2 was a net importer of electricity? \n",
    "If so, at what times during the year does this usually occur?"
   ]
  }
 ],
 "metadata": {
  "kernelspec": {
   "display_name": "base",
   "language": "python",
   "name": "python3"
  },
  "language_info": {
   "name": "python",
   "version": "3.12.2"
  }
 },
 "nbformat": 4,
 "nbformat_minor": 2
}
