{
 "cells": [
  {
   "cell_type": "markdown",
   "metadata": {},
   "source": [
    "IMPORTING THE FILES:"
   ]
  },
  {
   "cell_type": "code",
   "execution_count": 53,
   "metadata": {},
   "outputs": [],
   "source": [
    "import pandas as pd\n",
    "\n",
    "DATA_PATH = '../data'"
   ]
  },
  {
   "cell_type": "markdown",
   "metadata": {},
   "source": [
    "TASK 1:\n",
    "Your boss wants to know how electricity prices in NO2 and Germany have developed over the \n",
    "sample period. Therefore, she has asked you to create a line plot that visualizes the hourly \n",
    "electricity price in NO2 and Germany. The graph should: \n",
    "- consist of two subplots: \n",
    "o The first subplot shows the hourly electricity price in NO2 over time. \n",
    "o The second subplot shows the hourly electricity price in Germany over time. \n",
    "- add a vertical line to each subplot to indicate the official opening of Nordlink (December \n",
    "9, 2020).  \n",
    "- be stored as a png file called “figure_task1.png”. \n",
    "\n",
    "What is your conclusion? How has the electricity price in NO2 and Germany developed over \n",
    "time? Have the prices increased or decreased after the opening of Nordlink? Extra: Do you have \n",
    "any suggestions for why we sometimes observe negative electricity prices?"
   ]
  },
  {
   "cell_type": "markdown",
   "metadata": {},
   "source": [
    "TASK 2:\n",
    "Your boss has heard that electricity prices have become more volatile with extreme prices in \n",
    "recent years. Therefore, she has asked you to create a table with some descriptive statistics for \n",
    "the hourly electricity price in NO2 and Germany. The table should: \n",
    "- contain the mean, median, standard deviation, min and max of the hourly electricity \n",
    "price in NO2 and Germany separately for each year in the sample (2019, 2020, 2021, \n",
    "2022, 2023). \n",
    "- round all descriptive statistics to two decimals. \n",
    "- be stored as an excel file called “table_task2.xlsx”. \n",
    "What is your conclusion? Have electricity prices in NO2 and Germany become more extreme in \n",
    "recent years? Have the prices evolved differently in NO2 than in Germany?"
   ]
  },
  {
   "cell_type": "markdown",
   "metadata": {},
   "source": [
    "TASK 3:\n",
    "Your boss is interested in knowing whether NO2 exports more electricity than it imports from \n",
    "Germany, and if this has changed over time. Therefore, she has asked you to create a bar plot \n",
    "that shows the annual sums of imports and exports of electricity in NO2. The graph should: \n",
    "- contain a single bar plot that shows the annual sums of exports and imports of electricity \n",
    "in NO2 from Nordlink for each year in the data. \n",
    "- be stored as a png file called “figure_task3.png”. \n",
    "What is your conclusion? Does NO2 import or export more electricity to Germany? Have the \n",
    "annual sums of exports and imports changed over the years? "
   ]
  },
  {
   "cell_type": "markdown",
   "metadata": {},
   "source": [
    "TASK 4:\n",
    "Your boss wants to take a closer look at the transmission flows and investigate whether there \n",
    "are times during the year in which NO2 imports more electricity from Germany than it exports. \n",
    "Specifically, she wants to know whether there have been weeks in the data in which the sum of \n",
    "net exports of electricity from NO2 to Germany has been negative (i.e., NO2 imports more \n",
    "electricity than it exports to Germany). Note that the net export is defined as the export of \n",
    "electricity minus the import of electricity.  \n",
    "Therefore, she has asked you to create a line plot that shows the weekly sum of net exports of \n",
    "electricity from NO2 to Germany. The graph should: \n",
    "- contain a single line plot that shows the weekly sum of net exports of electricity from \n",
    "NO2 to Germany over time. \n",
    "- contain a horizontal line at y=0 to indicate when the weekly net export is zero. \n",
    "- be stored as a png file called “figure_task4.png”. \n",
    "What is your conclusion? Have NO2 always exported more electricity to Germany than it has \n",
    "imported? Or have there been weeks in the data in which NO2 was a net importer of electricity? \n",
    "If so, at what times during the year does this usually occur?"
   ]
  },
  {
   "cell_type": "markdown",
   "metadata": {},
   "source": [
    "TASK 5: \n",
    "Your boss believes that NO2 tends to export more electricity to Germany whenever the \n",
    "electricity price in Germany is higher relative to the price in NO2. She has asked you to \n",
    "investigate this claim by creating a scatter plot between the weekly sum of net exports in NO2 \n",
    "and the weekly average price difference between Germany and NO2. Note that to find the \n",
    "weekly average price difference, you should first find the hourly price difference, and then take \n",
    "the weekly average. \n",
    "The graph should: \n",
    "- contain a single scatter plot that shows the weekly sum of net exports in NO2 on the y-\n",
    "axis and the weekly average price difference between Germany and NO2 on the x-axis. \n",
    "- contain the correlation coefficient between the weekly sum of net exports and the \n",
    "weekly average price difference in the figure title. \n",
    "- be stored as a png file called “figure_task5.png”. \n",
    "What is your conclusion? Does there seem to be a relationship between the weekly sum of net \n",
    "exports and the weekly average price difference? If so, is the relationship positive or negative? "
   ]
  },
  {
   "cell_type": "markdown",
   "metadata": {},
   "source": [
    "TASK 6:\n",
    "Your boss is curious to know how you have used online sources in completing the assignment. \n",
    "She has asked you to write a statement describing your use of online sources, e.g., \n",
    "Stackoverflow, official function documentation, generative AI etc. If you have copied code from \n",
    "online, you can use this statement to point out the code snippets that you have not written \n",
    "yourself along with a reference to the source. In addition, if you have used generative AI, e.g., \n",
    "ChatGPT, your statement should explain how you have used such tools to help with the \n",
    "assignment."
   ]
  }
 ],
 "metadata": {
  "kernelspec": {
   "display_name": "base",
   "language": "python",
   "name": "python3"
  },
  "language_info": {
   "codemirror_mode": {
    "name": "ipython",
    "version": 3
   },
   "file_extension": ".py",
   "mimetype": "text/x-python",
   "name": "python",
   "nbconvert_exporter": "python",
   "pygments_lexer": "ipython3",
   "version": "3.12.2"
  }
 },
 "nbformat": 4,
 "nbformat_minor": 2
}
