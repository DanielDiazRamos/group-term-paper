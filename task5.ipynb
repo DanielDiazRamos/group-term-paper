{
 "cells": [
  {
   "cell_type": "code",
   "execution_count": null,
   "metadata": {},
   "outputs": [],
   "source": [
    "Your boss believes that NO2 tends to export more electricity to Germany whenever the \n",
    "electricity price in Germany is higher relative to the price in NO2. She has asked you to \n",
    "investigate this claim by creating a scatter plot between the weekly sum of net exports in NO2 \n",
    "and the weekly average price difference between Germany and NO2. Note that to find the \n",
    "weekly average price difference, you should first find the hourly price difference, and then take \n",
    "the weekly average. \n",
    "The graph should: \n",
    "- contain a single scatter plot that shows the weekly sum of net exports in NO2 on the y-\n",
    "axis and the weekly average price difference between Germany and NO2 on the x-axis. \n",
    "- contain the correlation coefficient between the weekly sum of net exports and the \n",
    "weekly average price difference in the figure title. \n",
    "- be stored as a png file called “figure_task5.png”. \n",
    "What is your conclusion? Does there seem to be a relationship between the weekly sum of net \n",
    "exports and the weekly average price difference? If so, is the relationship positive or negative?"
   ]
  }
 ],
 "metadata": {
  "kernelspec": {
   "display_name": "base",
   "language": "python",
   "name": "python3"
  },
  "language_info": {
   "name": "python",
   "version": "3.12.2"
  }
 },
 "nbformat": 4,
 "nbformat_minor": 2
}
