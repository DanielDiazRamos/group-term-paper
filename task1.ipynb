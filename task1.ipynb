{
 "cells": [
  {
   "cell_type": "code",
   "execution_count": null,
   "metadata": {},
   "outputs": [],
   "source": [
    "TASK 1:\n",
    "Your boss wants to know how electricity prices in NO2 and Germany have developed over the \n",
    "sample period. Therefore, she has asked you to create a line plot that visualizes the hourly \n",
    "electricity price in NO2 and Germany. The graph should: \n",
    "- consist of two subplots: \n",
    "o The first subplot shows the hourly electricity price in NO2 over time. \n",
    "o The second subplot shows the hourly electricity price in Germany over time. \n",
    "- add a vertical line to each subplot to indicate the official opening of Nordlink (December \n",
    "9, 2020).  \n",
    "- be stored as a png file called “figure_task1.png”. \n",
    "\n",
    "What is your conclusion? How has the electricity price in NO2 and Germany developed over \n",
    "time? Have the prices increased or decreased after the opening of Nordlink? Extra: Do you have \n",
    "any suggestions for why we sometimes observe negative electricity prices?"
   ]
  }
 ],
 "metadata": {
  "kernelspec": {
   "display_name": "base",
   "language": "python",
   "name": "python3"
  },
  "language_info": {
   "name": "python",
   "version": "3.12.2"
  }
 },
 "nbformat": 4,
 "nbformat_minor": 2
}
